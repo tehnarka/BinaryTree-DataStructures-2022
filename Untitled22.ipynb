{
  "nbformat": 4,
  "nbformat_minor": 0,
  "metadata": {
    "colab": {
      "provenance": []
    },
    "kernelspec": {
      "name": "python3",
      "display_name": "Python 3"
    },
    "language_info": {
      "name": "python"
    }
  },
  "cells": [
    {
      "cell_type": "code",
      "source": [
        "class Stack:\n",
        "    '''\n",
        "        class for stack, use a Python list\n",
        "        attributes :\n",
        "        - size : int\n",
        "        - items : list\n",
        "        methods :\n",
        "        - push(x) : push the data x which is an instance of Item\n",
        "        - pop() : if the stack is not empty, pop and return the data, else do nothing and return None\n",
        "        - print() : print the attributes\n",
        "    '''\n",
        "\n",
        "    def __init__(self):  # fonction d'initialisation d'une nouvelle instance (objet) de la classe\n",
        "        self.size = 0\n",
        "        self.items = list()\n",
        "\n",
        "    def push(self,x):\n",
        "        self.size += 1\n",
        "        self.items.append(x)\n",
        "\n",
        "    def pop(self):\n",
        "        if self.size>0:\n",
        "            self.size -= 1\n",
        "            return self.items.pop()\n",
        "        return None\n",
        "\n",
        "    def print(self):  # fonction d'affichage de la pile\n",
        "        print('size=',self.size,', items=',self.items)\n",
        "\n"
      ],
      "metadata": {
        "id": "tk-LRqHHl_IA"
      },
      "execution_count": null,
      "outputs": []
    },
    {
      "cell_type": "code",
      "source": [
        "class Node:\n",
        "    '''\n",
        "        Class for nodes of a binary tree\n",
        "        Attributes :\n",
        "        - left : None or Node\n",
        "        - right : None or Node\n",
        "        - data : Item\n",
        "    '''\n",
        "    def __init__(self,key):\n",
        "        self.left = None\n",
        "        self.right = None\n",
        "        self.data = key\n"
      ],
      "metadata": {
        "id": "pGm-niIan3iR"
      },
      "execution_count": null,
      "outputs": []
    },
    {
      "cell_type": "code",
      "source": [
        "class Tree:\n",
        "    '''\n",
        "        Class for binary tree\n",
        "        Attributes :\n",
        "        - size : int\n",
        "        - root : None or Node\n",
        "        Methods :\n",
        "        - infix_print() : print the tree according infix order\n",
        "    '''\n",
        "\n",
        "    def __init__(self):\n",
        "        self.root = None\n",
        "        self.size = 0\n",
        "\n",
        "    def infix_print_rec(self,root):\n",
        "        if root is not None:\n",
        "            self.infix_print_rec(root.left)\n",
        "            print(root.data, end=', ')\n",
        "            self.infix_print_rec(root.right)\n",
        "\n",
        "    def infix_print(self):\n",
        "        print(\"Tree : \", end='')\n",
        "        self.infix_print_rec(self.root)\n",
        "        print()\n",
        "\n",
        "    def depth_first_print(self):\n",
        "        p = Stack()\n",
        "        p.push(self.root)\n",
        "        while p.size > 0:\n",
        "          x = p.pop()\n",
        "          if x != None:\n",
        "            print(x.data)\n",
        "            p.push(x.left)\n",
        "            p.push(x.right)\n",
        "\n",
        "    def breadth_first_print(self):\n",
        "        p = Queue()\n",
        "        p.push(self.root)\n",
        "        while p.size > 0:\n",
        "          x = p.pop()\n",
        "          if x != None:\n",
        "            print(x.data)\n",
        "            p.push(x.left)\n",
        "            p.push(x.right)\n"
      ],
      "metadata": {
        "id": "xD_PHQZmmEKl"
      },
      "execution_count": null,
      "outputs": []
    },
    {
      "cell_type": "code",
      "source": [
        "t = Tree()\n",
        "t.root = Node(4)\n",
        "t.root.right = Node(5)\n",
        "t.breadth_first_print()"
      ],
      "metadata": {
        "colab": {
          "base_uri": "https://localhost:8080/"
        },
        "id": "ADFvbgYymGE9",
        "outputId": "67c80e6e-9177-456d-a84c-ddd0139f688c"
      },
      "execution_count": null,
      "outputs": [
        {
          "output_type": "stream",
          "name": "stdout",
          "text": [
            "4\n",
            "5\n"
          ]
        }
      ]
    },
    {
      "cell_type": "code",
      "source": [
        "from logging import root\n",
        "class BST(Tree):\n",
        "    '''\n",
        "        Class for ABR\n",
        "        Derivate from Tree\n",
        "    '''\n",
        "    pass # mot clé Python dire qu'on ne fait rien quand on est obligé d'écrire une instruction\n",
        "    def search(self,x):\n",
        "      n = self.root\n",
        "      while n != None:\n",
        "          if x == n.data:\n",
        "            return n\n",
        "          elif x < n.data:\n",
        "            n = n.left\n",
        "          else:\n",
        "            n = n.right\n",
        "\n",
        "\n",
        "    def min(self):\n",
        "      if self.size == 0:\n",
        "          return None\n",
        "      n = self.root\n",
        "      while n != None:\n",
        "         m = n\n",
        "         n = n.left\n",
        "      return m\n",
        "\n",
        "    def insert(self,x):\n",
        "      n = self.root\n",
        "      if x < n.data:\n",
        "            n = n.left\n",
        "            if n == None:\n",
        "              n = x\n",
        "      elif x > n.data:\n",
        "            n = n.right\n",
        "            if n == None:\n",
        "              n = x\n",
        "\n"
      ],
      "metadata": {
        "id": "aGDRQnNJmHqX"
      },
      "execution_count": null,
      "outputs": []
    },
    {
      "cell_type": "code",
      "source": [
        "t = BST()\n",
        "t.root = Node(4)\n",
        "t.root.left = Node(2)\n",
        "t.root.right = Node(5)\n",
        "t.insert(3)\n",
        "t.infix_print()"
      ],
      "metadata": {
        "colab": {
          "base_uri": "https://localhost:8080/"
        },
        "id": "cSiRHpNiWAaH",
        "outputId": "8b4e0269-3db9-4e2b-c405-51de237845e6"
      },
      "execution_count": null,
      "outputs": [
        {
          "output_type": "stream",
          "name": "stdout",
          "text": [
            "Tree : 2, 4, 5, \n"
          ]
        }
      ]
    },
    {
      "cell_type": "code",
      "source": [
        "t = BST()\n",
        "t.root = Node(4)\n",
        "t.root.left = Node(2)\n",
        "t.root.right = Node(5)\n",
        "t.size = 2\n",
        "m = t.min()\n",
        "print(m.data)"
      ],
      "metadata": {
        "colab": {
          "base_uri": "https://localhost:8080/"
        },
        "id": "Ql10GksnIpjg",
        "outputId": "8e8b9158-d38c-47c0-de54-adc79149ed17"
      },
      "execution_count": null,
      "outputs": [
        {
          "output_type": "stream",
          "name": "stdout",
          "text": [
            "2\n"
          ]
        }
      ]
    },
    {
      "cell_type": "code",
      "source": [
        "t = BST()\n",
        "t.root = Node(4)\n",
        "t.root.right = Node(5)\n",
        "t.search(5)"
      ],
      "metadata": {
        "colab": {
          "base_uri": "https://localhost:8080/"
        },
        "id": "DobM3hT0Cddm",
        "outputId": "b7285238-97de-475a-a541-113273dbea18"
      },
      "execution_count": null,
      "outputs": [
        {
          "output_type": "execute_result",
          "data": {
            "text/plain": [
              "<__main__.Node at 0x7dea924a5930>"
            ]
          },
          "metadata": {},
          "execution_count": 102
        }
      ]
    },
    {
      "cell_type": "code",
      "execution_count": null,
      "metadata": {
        "id": "dYSKsHcfiWWx"
      },
      "outputs": [],
      "source": [
        "class Queue:\n",
        "  def __init__(self):\n",
        "    self.size = 0\n",
        "    self.items = list()\n",
        "\n",
        "  def push(self,x):\n",
        "    self.size +=1\n",
        "    self.items.append(x)\n",
        "\n",
        "  def pop(self):\n",
        "    if self.size>0:\n",
        "          self.size -= 1\n",
        "          return self.items.pop(0)\n",
        "    return None\n",
        "\n",
        "  def print(self):  # fonction d'affichage de la pile\n",
        "        print('size=',self.size,', items=',self.items)\n"
      ]
    },
    {
      "cell_type": "code",
      "source": [
        "s=Queue()\n",
        "s.print()\n",
        "s.push(1)\n",
        "s.print()\n",
        "s.push(2)\n",
        "s.print()\n",
        "s.push(3)\n",
        "s.print()\n",
        "s.pop()\n",
        "s.print()\n",
        "s.pop()\n",
        "s.print()\n"
      ],
      "metadata": {
        "colab": {
          "base_uri": "https://localhost:8080/"
        },
        "id": "-EVi80WUmWxc",
        "outputId": "0e6b0a6c-bbc9-4901-a115-e00a27f5a640"
      },
      "execution_count": null,
      "outputs": [
        {
          "output_type": "stream",
          "name": "stdout",
          "text": [
            "size= 0 , items= []\n",
            "size= 1 , items= [1]\n",
            "size= 2 , items= [1, 2]\n",
            "size= 3 , items= [1, 2, 3]\n",
            "size= 2 , items= [2, 3]\n",
            "size= 1 , items= [3]\n"
          ]
        }
      ]
    },
    {
      "cell_type": "code",
      "source": [
        "t = BST()\n",
        "t.root = Node(4)\n",
        "t.root.right = Node(5)\n",
        "t.infix_print()"
      ],
      "metadata": {
        "colab": {
          "base_uri": "https://localhost:8080/"
        },
        "id": "OcMmbFX3mpPG",
        "outputId": "e5767249-2d24-4839-ab33-736b445626de"
      },
      "execution_count": null,
      "outputs": [
        {
          "output_type": "stream",
          "name": "stdout",
          "text": [
            "Tree : 4, 5, \n"
          ]
        }
      ]
    }
  ]
}